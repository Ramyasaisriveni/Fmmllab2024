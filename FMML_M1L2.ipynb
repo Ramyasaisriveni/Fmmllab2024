{
  "cells": [
    {
      "cell_type": "markdown",
      "metadata": {
        "id": "view-in-github",
        "colab_type": "text"
      },
      "source": [
        "<a href=\"https://colab.research.google.com/github/Ramyasaisriveni/Fmmllab2024/blob/main/FMML_M1L2.ipynb\" target=\"_parent\"><img src=\"https://colab.research.google.com/assets/colab-badge.svg\" alt=\"Open In Colab\"/></a>"
      ]
    },
    {
      "cell_type": "markdown",
      "metadata": {
        "id": "3Eu9VZbF01eq"
      },
      "source": [
        "# Machine Learning terms and metrics\n",
        "\n",
        "FMML Module 1, Lab 2\n",
        "\n",
        "In this lab, we will show a part of the ML pipeline by using the California Housing dataset. There are 20640 samples, each with 8 attributes like income of the block, age of the houses per district etc. The task is to predict the cost of the houses per district. We will use the scikit-learn library to load the data and perform some basic data preprocessing and model training. We will also show how to evaluate the model using some common metrics, split the data into training and testing sets, and use cross-validation to get a better estimate of the model's performance."
      ]
    },
    {
      "cell_type": "code",
      "execution_count": null,
      "metadata": {
        "id": "8qBvyEem0vLi"
      },
      "outputs": [],
      "source": [
        "import numpy as np\n",
        "from sklearn import datasets\n",
        "import matplotlib.pyplot as plt\n",
        "\n",
        "rng = np.random.default_rng(seed=42)"
      ]
    },
    {
      "cell_type": "code",
      "execution_count": null,
      "metadata": {
        "colab": {
          "base_uri": "https://localhost:8080/"
        },
        "id": "8LpqjN991GGJ",
        "outputId": "6f379d6f-dc2c-427a-93f7-587d7b909a5a"
      },
      "outputs": [
        {
          "output_type": "stream",
          "name": "stdout",
          "text": [
            ".. _california_housing_dataset:\n",
            "\n",
            "California Housing dataset\n",
            "--------------------------\n",
            "\n",
            "**Data Set Characteristics:**\n",
            "\n",
            "    :Number of Instances: 20640\n",
            "\n",
            "    :Number of Attributes: 8 numeric, predictive attributes and the target\n",
            "\n",
            "    :Attribute Information:\n",
            "        - MedInc        median income in block group\n",
            "        - HouseAge      median house age in block group\n",
            "        - AveRooms      average number of rooms per household\n",
            "        - AveBedrms     average number of bedrooms per household\n",
            "        - Population    block group population\n",
            "        - AveOccup      average number of household members\n",
            "        - Latitude      block group latitude\n",
            "        - Longitude     block group longitude\n",
            "\n",
            "    :Missing Attribute Values: None\n",
            "\n",
            "This dataset was obtained from the StatLib repository.\n",
            "https://www.dcc.fc.up.pt/~ltorgo/Regression/cal_housing.html\n",
            "\n",
            "The target variable is the median house value for California districts,\n",
            "expressed in hundreds of thousands of dollars ($100,000).\n",
            "\n",
            "This dataset was derived from the 1990 U.S. census, using one row per census\n",
            "block group. A block group is the smallest geographical unit for which the U.S.\n",
            "Census Bureau publishes sample data (a block group typically has a population\n",
            "of 600 to 3,000 people).\n",
            "\n",
            "A household is a group of people residing within a home. Since the average\n",
            "number of rooms and bedrooms in this dataset are provided per household, these\n",
            "columns may take surprisingly large values for block groups with few households\n",
            "and many empty houses, such as vacation resorts.\n",
            "\n",
            "It can be downloaded/loaded using the\n",
            ":func:`sklearn.datasets.fetch_california_housing` function.\n",
            "\n",
            ".. topic:: References\n",
            "\n",
            "    - Pace, R. Kelley and Ronald Barry, Sparse Spatial Autoregressions,\n",
            "      Statistics and Probability Letters, 33 (1997) 291-297\n",
            "\n"
          ]
        }
      ],
      "source": [
        "dataset = datasets.fetch_california_housing()\n",
        "# Dataset description\n",
        "print(dataset.DESCR)"
      ]
    },
    {
      "cell_type": "markdown",
      "metadata": {
        "id": "PCe1VNftevgE"
      },
      "source": [
        "Given below are the list of target values. These correspond to the house value derived considering all the 8 input features and are continuous values. We should use regression models to predict these values but we will start with a simple classification model for the sake of simplicity. We need to just round off the values to the nearest integer and use a classification model to predict the house value."
      ]
    },
    {
      "cell_type": "code",
      "execution_count": null,
      "metadata": {
        "colab": {
          "base_uri": "https://localhost:8080/"
        },
        "id": "F8K0ggBOevgE",
        "outputId": "f71dd070-d8a0-41e1-b595-107fec9f47e8"
      },
      "outputs": [
        {
          "output_type": "stream",
          "name": "stdout",
          "text": [
            "Orignal target values: [4.526 3.585 3.521 ... 0.923 0.847 0.894]\n",
            "Target values after conversion: [4 3 3 ... 0 0 0]\n",
            "Input variables shape: (20640, 8)\n",
            "Output variables shape: (20640,)\n"
          ]
        }
      ],
      "source": [
        "print(\"Orignal target values:\", dataset.target)\n",
        "\n",
        "dataset.target = dataset.target.astype(int)\n",
        "\n",
        "print(\"Target values after conversion:\", dataset.target)\n",
        "print(\"Input variables shape:\", dataset.data.shape)\n",
        "print(\"Output variables shape:\", dataset.target.shape)"
      ]
    },
    {
      "cell_type": "markdown",
      "metadata": {
        "id": "iNx4174W5xRg"
      },
      "source": [
        "The simplest model to use for classification is the K-Nearest Neighbors model. We will use this model to predict the house value with a K value of 1. We will also use the accuracy metric to evaluate the model."
      ]
    },
    {
      "cell_type": "code",
      "execution_count": null,
      "metadata": {
        "id": "07zpydQj1hIQ"
      },
      "outputs": [],
      "source": [
        "def NN1(traindata, trainlabel, query):\n",
        "    \"\"\"\n",
        "    This function takes in the training data, training labels and a query point\n",
        "    and returns the predicted label for the query point using the nearest neighbour algorithm\n",
        "\n",
        "    traindata: numpy array of shape (n,d) where n is the number of samples and d is the number of features\n",
        "    trainlabel: numpy array of shape (n,) where n is the number of samples\n",
        "    query: numpy array of shape (d,) where d is the number of features\n",
        "\n",
        "    returns: the predicted label for the query point which is the label of the training data which is closest to the query point\n",
        "    \"\"\"\n",
        "    diff = (\n",
        "        traindata - query\n",
        "    )  # find the difference between features. Numpy automatically takes care of the size here\n",
        "    sq = diff * diff  # square the differences\n",
        "    dist = sq.sum(1)  # add up the squares\n",
        "    label = trainlabel[np.argmin(dist)]\n",
        "    return label\n",
        "\n",
        "\n",
        "def NN(traindata, trainlabel, testdata):\n",
        "    \"\"\"\n",
        "    This function takes in the training data, training labels and test data\n",
        "    and returns the predicted labels for the test data using the nearest neighbour algorithm\n",
        "\n",
        "    traindata: numpy array of shape (n,d) where n is the number of samples and d is the number of features\n",
        "    trainlabel: numpy array of shape (n,) where n is the number of samples\n",
        "    testdata: numpy array of shape (m,d) where m is the number of test samples and d is the number of features\n",
        "\n",
        "    returns: the predicted labels for the test data which is the label of the training data which is closest to each test point\n",
        "    \"\"\"\n",
        "    predlabel = np.array([NN1(traindata, trainlabel, i) for i in testdata])\n",
        "    return predlabel"
      ]
    },
    {
      "cell_type": "markdown",
      "metadata": {
        "id": "03JktkfIGaje"
      },
      "source": [
        "We will also define a 'random classifier', which randomly allots labels to each sample"
      ]
    },
    {
      "cell_type": "code",
      "execution_count": null,
      "metadata": {
        "id": "fogWAtjyGhAH"
      },
      "outputs": [],
      "source": [
        "def RandomClassifier(traindata, trainlabel, testdata):\n",
        "    \"\"\"\n",
        "    This function takes in the training data, training labels and test data\n",
        "    and returns the predicted labels for the test data using the random classifier algorithm\n",
        "\n",
        "    In reality, we don't need these arguments but we are passing them to keep the function signature consistent with other classifiers\n",
        "\n",
        "    traindata: numpy array of shape (n,d) where n is the number of samples and d is the number of features\n",
        "    trainlabel: numpy array of shape (n,) where n is the number of samples\n",
        "    testdata: numpy array of shape (m,d) where m is the number of test samples and d is the number of features\n",
        "\n",
        "    returns: the predicted labels for the test data which is a random label from the training data\n",
        "    \"\"\"\n",
        "\n",
        "    classes = np.unique(trainlabel)\n",
        "    rints = rng.integers(low=0, high=len(classes), size=len(testdata))\n",
        "    predlabel = classes[rints]\n",
        "    return predlabel"
      ]
    },
    {
      "cell_type": "markdown",
      "metadata": {
        "id": "1Hjf1KHs7fU5"
      },
      "source": [
        "We need a metric to evaluate the performance of the model. Let us define a metric 'Accuracy' to see how good our learning algorithm is. Accuracy is the ratio of the number of correctly classified samples to the total number of samples. The higher the accuracy, the better the algorithm. We will use the accuracy metric to evaluate and compate the performance of the K-Nearest Neighbors model and the random classifier."
      ]
    },
    {
      "cell_type": "code",
      "execution_count": null,
      "metadata": {
        "id": "ouuCqWU07bz-"
      },
      "outputs": [],
      "source": [
        "def Accuracy(gtlabel, predlabel):\n",
        "    \"\"\"\n",
        "    This function takes in the ground-truth labels and predicted labels\n",
        "    and returns the accuracy of the classifier\n",
        "\n",
        "    gtlabel: numpy array of shape (n,) where n is the number of samples\n",
        "    predlabel: numpy array of shape (n,) where n is the number of samples\n",
        "\n",
        "    returns: the accuracy of the classifier which is the number of correct predictions divided by the total number of predictions\n",
        "    \"\"\"\n",
        "    assert len(gtlabel) == len(\n",
        "        predlabel\n",
        "    ), \"Length of the ground-truth labels and predicted labels should be the same\"\n",
        "    correct = (\n",
        "        gtlabel == predlabel\n",
        "    ).sum()  # count the number of times the groundtruth label is equal to the predicted label.\n",
        "    return correct / len(gtlabel)"
      ]
    },
    {
      "cell_type": "markdown",
      "metadata": {
        "id": "4vJFwBFa9Klw"
      },
      "source": [
        "Let us make a function to split the dataset with the desired probability. We will use this function to split the dataset into training and testing sets. We will use the training set to train the model and the testing set to evaluate the model."
      ]
    },
    {
      "cell_type": "code",
      "execution_count": null,
      "metadata": {
        "id": "Ko0VzpSM2Tdi"
      },
      "outputs": [],
      "source": [
        "def split(data, label, percent):\n",
        "    # generate a random number for each sample\n",
        "    rnd = rng.random(len(label))\n",
        "    split1 = rnd < percent\n",
        "    split2 = rnd >= percent\n",
        "\n",
        "    split1data = data[split1, :]\n",
        "    split1label = label[split1]\n",
        "    split2data = data[split2, :]\n",
        "    split2label = label[split2]\n",
        "    return split1data, split1label, split2data, split2label"
      ]
    },
    {
      "cell_type": "markdown",
      "metadata": {
        "id": "AcK3LEAJ_LGC"
      },
      "source": [
        "We will reserve 20% of our dataset as the test set. We will not change this portion throughout our experiments"
      ]
    },
    {
      "cell_type": "code",
      "execution_count": null,
      "metadata": {
        "colab": {
          "base_uri": "https://localhost:8080/"
        },
        "id": "bBZkHBLJ1iU-",
        "outputId": "73ffc0bd-354d-4051-f17a-c6adebdd58fe"
      },
      "outputs": [
        {
          "output_type": "stream",
          "name": "stdout",
          "text": [
            "Number of test samples: 4144\n",
            "Number of train samples: 16496\n",
            "Percent of test data: 20.07751937984496 %\n"
          ]
        }
      ],
      "source": [
        "testdata, testlabel, alltraindata, alltrainlabel = split(\n",
        "    dataset.data, dataset.target, 20 / 100\n",
        ")\n",
        "print(\"Number of test samples:\", len(testlabel))\n",
        "print(\"Number of train samples:\", len(alltrainlabel))\n",
        "print(\"Percent of test data:\", len(testlabel) * 100 / len(dataset.target), \"%\")"
      ]
    },
    {
      "cell_type": "markdown",
      "metadata": {
        "id": "a6Ss0Z6IAGNV"
      },
      "source": [
        "## Experiments with splits\n",
        "\n",
        "Let us reserve some of our train data as a validation set"
      ]
    },
    {
      "cell_type": "code",
      "execution_count": null,
      "metadata": {
        "id": "WFew2iry_7W7"
      },
      "outputs": [],
      "source": [
        "traindata, trainlabel, valdata, vallabel = split(\n",
        "    alltraindata, alltrainlabel, 75 / 100)"
      ]
    },
    {
      "cell_type": "markdown",
      "metadata": {
        "id": "60hiu4clFN1i"
      },
      "source": [
        "What is the accuracy of our classifiers on the train dataset?"
      ]
    },
    {
      "cell_type": "code",
      "execution_count": null,
      "metadata": {
        "colab": {
          "base_uri": "https://localhost:8080/"
        },
        "id": "DBlZDTHUFTZx",
        "outputId": "2d0ed616-7ece-4d8f-8f8d-cb1eb48f7385"
      },
      "outputs": [
        {
          "output_type": "stream",
          "name": "stdout",
          "text": [
            "Training accuracy using nearest neighbour algorithm: 100.0 %\n",
            "Training accuracy using random classifier:  16.4375808538163 %\n"
          ]
        }
      ],
      "source": [
        "trainpred = NN(traindata, trainlabel, traindata)\n",
        "trainAccuracy = Accuracy(trainlabel, trainpred)\n",
        "print(\"Training accuracy using nearest neighbour algorithm:\", trainAccuracy*100, \"%\")\n",
        "\n",
        "trainpred = RandomClassifier(traindata, trainlabel, traindata)\n",
        "trainAccuracy = Accuracy(trainlabel, trainpred)\n",
        "print(\"Training accuracy using random classifier: \", trainAccuracy*100, \"%\")"
      ]
    },
    {
      "cell_type": "markdown",
      "metadata": {
        "id": "7h08-9gJDtSy"
      },
      "source": [
        "For nearest neighbour, the train accuracy is always 1. The accuracy of the random classifier is close to 1/(number of classes) which is 0.1666 in our case. This is because the random classifier randomly assigns a label to each sample and the probability of assigning the correct label is 1/(number of classes). Let us predict the labels for our validation set and get the accuracy. This accuracy is a good estimate of the accuracy of our model on unseen data."
      ]
    },
    {
      "cell_type": "code",
      "execution_count": null,
      "metadata": {
        "colab": {
          "base_uri": "https://localhost:8080/"
        },
        "id": "4h7bXoW_2H3v",
        "outputId": "ab09a4be-1b0e-4db2-ef67-a4b5f41c48fe"
      },
      "outputs": [
        {
          "output_type": "stream",
          "name": "stdout",
          "text": [
            "Validation accuracy using nearest neighbour algorithm: 34.10852713178294 %\n",
            "Validation accuracy using random classifier: 16.884689922480618 %\n"
          ]
        }
      ],
      "source": [
        "valpred = NN(traindata, trainlabel, valdata)\n",
        "valAccuracy = Accuracy(vallabel, valpred)\n",
        "print(\"Validation accuracy using nearest neighbour algorithm:\", valAccuracy*100, \"%\")\n",
        "\n",
        "\n",
        "valpred = RandomClassifier(traindata, trainlabel, valdata)\n",
        "valAccuracy = Accuracy(vallabel, valpred)\n",
        "print(\"Validation accuracy using random classifier:\", valAccuracy*100, \"%\")"
      ]
    },
    {
      "cell_type": "markdown",
      "metadata": {
        "id": "py9bLguFEjfg"
      },
      "source": [
        "Validation accuracy of nearest neighbour is considerably less than its train accuracy while the validation accuracy of random classifier is the same. However, the validation accuracy of nearest neighbour is twice that of the random classifier. Now let us try another random split and check the validation accuracy. We will see that the validation accuracy changes with the split. This is because the validation set is small and the accuracy is highly dependent on the samples in the validation set. We can get a better estimate of the accuracy by using cross-validation."
      ]
    },
    {
      "cell_type": "code",
      "execution_count": null,
      "metadata": {
        "colab": {
          "base_uri": "https://localhost:8080/"
        },
        "id": "ujm3cyYzEntE",
        "outputId": "8e5506e9-474c-4fd6-d7a6-b14aa1b8b8d1"
      },
      "outputs": [
        {
          "output_type": "stream",
          "name": "stdout",
          "text": [
            "Validation accuracy using nearest neighbour algorithm: 34.048257372654156 %\n"
          ]
        }
      ],
      "source": [
        "traindata, trainlabel, valdata, vallabel = split(\n",
        "    alltraindata, alltrainlabel, 75 / 100)\n",
        "valpred = NN(traindata, trainlabel, valdata)\n",
        "valAccuracy = Accuracy(vallabel, valpred)\n",
        "print(\"Validation accuracy using nearest neighbour algorithm:\", valAccuracy*100, \"%\")"
      ]
    },
    {
      "cell_type": "markdown",
      "metadata": {
        "id": "oSOx7U83EKie"
      },
      "source": [
        "You can run the above cell multiple times to try with different random splits.\n",
        "We notice that the accuracy is different for each run, but close together.\n",
        "\n",
        "Now let us compare it with the accuracy we get on the test dataset."
      ]
    },
    {
      "cell_type": "code",
      "execution_count": null,
      "metadata": {
        "colab": {
          "base_uri": "https://localhost:8080/"
        },
        "id": "PNEZ5ToYBEDW",
        "outputId": "2487fee9-0efc-4ce9-8b76-c8fd90b0c94a"
      },
      "outputs": [
        {
          "output_type": "stream",
          "name": "stdout",
          "text": [
            "Test accuracy: 34.91795366795367 %\n"
          ]
        }
      ],
      "source": [
        "testpred = NN(alltraindata, alltrainlabel, testdata)\n",
        "testAccuracy = Accuracy(testlabel, testpred)\n",
        "\n",
        "print(\"Test accuracy:\", testAccuracy*100, \"%\")"
      ]
    },
    {
      "cell_type": "markdown",
      "metadata": {
        "id": "w3dGD531K3gH"
      },
      "source": [
        "### Try it out for yourself and answer:\n",
        "1. How is the accuracy of the validation set affected if we increase the percentage of validation set? What happens when we reduce it?\n",
        "2. How does the size of the train and validation set affect how well we can predict the accuracy on the test set using the validation set?\n",
        "3. What do you think is a good percentage to reserve for the validation set so that thest two factors are balanced?\n",
        "\n",
        "Answer for both nearest neighbour and random classifier. You can note down the values for your experiments and plot a graph using  <a href=https://matplotlib.org/stable/gallery/lines_bars_and_markers/step_demo.html#sphx-glr-gallery-lines-bars-and-markers-step-demo-py>plt.plot<href>. Check also for extreme values for splits, like 99.9% or 0.1%"
      ]
    },
    {
      "cell_type": "markdown",
      "source": [
        "1(ANS)\n",
        "\n",
        "Increasing the Validation Set SizeMore Representative Sample: A larger validation set can provide a more reliable estimate of the model's performance since it better represents the overall distribution of the data.Stability: The accuracy metric tends to be more stable and less prone to fluctuations because the larger sample size reduces variance. This means you're more likely to get a consistent measure of accuracy across different runs.Less Training Data: The downside is that less data is available for training, which might lead to a slightly less optimized model, potentially reducing the accuracy of the model in practice. However, this effect is usually minor if the training set is still sufficiently large.Reducing the Validation Set SizeLess Representative: A smaller validation set might not capture the full variability of the data, leading to an accuracy metric that might be less reliable. It may either overestimate or underestimate the true performance of the model.More Variance: The accuracy might fluctuate more between different runs due to the smaller sample size, making it less stable as a performance measure.More Training Data: With more data available for training, the model might be slightly better optimized, but the improvement might be marginal if the reduction in validation data leads to poor evaluation accuracy.SummaryIncreasing validation set size: More reliable and stable accuracy estimates, but slightly less training data.Decreasing validation set size: Less reliable accuracy estimates with more variance, but slightly more training data."
      ],
      "metadata": {
        "id": "UtGMX9CaaOCf"
      }
    },
    {
      "cell_type": "code",
      "source": [
        "import numpy as np\n",
        "from sklearn.datasets import load_iris\n",
        "from sklearn.model_selection import train_test_split\n",
        "from sklearn.ensemble import RandomForestClassifier\n",
        "from sklearn.metrics import accuracy_score\n",
        "\n",
        "# Load the dataset\n",
        "data = load_iris()\n",
        "X, y = data.data, data.target\n",
        "\n",
        "# Define percentages for validation set\n",
        "validation_percentages = [0.1, 0.2, 0.3]  # 10%, 20%, 30%\n",
        "\n",
        "# Train and evaluate model with different validation set sizes\n",
        "for val_percent in validation_percentages:\n",
        "    # Split the data into training and validation sets\n",
        "    X_train, X_val, y_train, y_val = train_test_split(X, y, test_size=val_percent, random_state=42)\n",
        "\n",
        "    # Initialize and train the model\n",
        "    model = RandomForestClassifier(n_estimators=100, random_state=42)\n",
        "    model.fit(X_train, y_train)\n",
        "\n",
        "    # Make predictions and evaluate accuracy\n",
        "    y_pred = model.predict(X_val)\n",
        "    accuracy = accuracy_score(y_val, y_pred)\n",
        "\n",
        "    print(f\"Validation set size: {int(val_percent * 100)}%\")\n",
        "    print(f\"Validation accuracy: {accuracy:.4f}\\n\")"
      ],
      "metadata": {
        "id": "1Hi1AoH6aYMR"
      },
      "execution_count": null,
      "outputs": []
    },
    {
      "cell_type": "markdown",
      "source": [
        "2(ANS)\n",
        "The size of the training and validation sets can significantly impact how well the validation set's accuracy predicts the test set's accuracy. Here’s how:\n",
        "\n",
        "### Larger Training Set:\n",
        "- **Better Model Performance:** More training data generally helps the model learn better and generalize more effectively. This can lead to a model with improved performance on both the validation and test sets.\n",
        "- **Impact on Validation Accuracy:** With a larger training set, the model may become more robust, leading to more reliable performance estimates from the validation set. However, if the validation set is small, the estimates of performance might still be noisy.\n",
        "\n",
        "### Larger Validation Set:\n",
        "- **More Reliable Estimates:** A larger validation set provides a more accurate estimate of the model’s performance on unseen data. This is because it is more representative of the overall data distribution.\n",
        "- **Better Prediction of Test Accuracy:** With a larger validation set, the performance metric (e.g., accuracy) is less likely to be affected by random fluctuations and better reflects the model’s expected performance on the test set.\n",
        "\n",
        "### Smaller Training Set:\n",
        "- **Potential Overfitting:** A smaller training set might lead to overfitting, where the model performs well on the training set but poorly on the validation set. This can make the validation accuracy less reliable.\n",
        "- **Impact on Validation Accuracy:** If the model is under-trained due to insufficient data, the validation accuracy might not accurately reflect the true performance on the test set.\n",
        "\n",
        "### Smaller Validation Set:\n",
        "- **Noisy Estimates:** A smaller validation set might not capture the full variability of the data, making the accuracy estimate more variable and less reliable.\n",
        "- **Worse Prediction of Test Accuracy:** If the validation set is too small, it may not provide a good estimate of the model’s performance on the test set, leading to less reliable predictions of test accuracy.\n",
        "\n",
        "### Summary\n",
        "- **Larger Training Set:** Generally improves model performance and makes the validation accuracy more reliable.\n",
        "- **Larger Validation Set:** Provides more accurate estimates of performance and better predicts test set accuracy.\n",
        "- **Smaller Training Set:** Can lead to overfitting and unreliable validation accuracy.\n",
        "- **Smaller Validation Set:** Results in less reliable accuracy estimates and poorer prediction of test set performance.\n",
        "\n",
        "In practice, it’s crucial to find a balance that ensures a sufficiently large training set to train the model effectively and a sufficiently large validation set to provide a reliable estimate of performance."
      ],
      "metadata": {
        "id": "7wWgKRWramtu"
      }
    },
    {
      "cell_type": "code",
      "source": [
        "import numpy as np\n",
        "from sklearn.datasets import load_iris\n",
        "from sklearn.model_selection import train_test_split\n",
        "from sklearn.ensemble import RandomForestClassifier\n",
        "from sklearn.metrics import accuracy_score\n",
        "\n",
        "# Load the dataset\n",
        "data = load_iris()\n",
        "X, y = data.data, data.target\n",
        "\n",
        "# Define training and validation set sizes\n",
        "train_val_split = [0.2, 0.3, 0.4]  # Validation set sizes (20%, 30%, 40%)\n",
        "\n",
        "# Split data into training+validation and test sets\n",
        "X_temp, X_test, y_temp, y_test = train_test_split(X, y, test_size=0.3, random_state=42)\n",
        "\n",
        "for val_size in train_val_split:\n",
        "    # Split the temporary data into training and validation sets\n",
        "    X_train, X_val, y_train, y_val = train_test_split(X_temp, y_temp, test_size=val_size, random_state=42)\n",
        "\n",
        "    # Initialize and train the model\n",
        "    model = RandomForestClassifier(n_estimators=100, random_state=42)\n",
        "    model.fit(X_train, y_train)\n",
        "\n",
        "    # Make predictions and evaluate accuracy on validation set\n",
        "    y_val_pred = model.predict(X_val)\n",
        "    val_accuracy = accuracy_score(y_val, y_val_pred)\n",
        "\n",
        "    # Make predictions and evaluate accuracy on test set\n",
        "    y_test_pred = model.predict(X_test)\n",
        "    test_accuracy = accuracy_score(y_test, y_test_pred)\n",
        "\n",
        "    print(f\"Validation set size: {int(val_size * 100)}%\")\n",
        "    print(f\"Validation accuracy: {val_accuracy:.4f}\")\n",
        "    print(f\"Test accuracy: {test_accuracy:.4f}\\n\")"
      ],
      "metadata": {
        "id": "VnaWLXA1a1vS"
      },
      "execution_count": null,
      "outputs": []
    },
    {
      "cell_type": "markdown",
      "metadata": {
        "id": "M9zvdYY6evgI"
      },
      "source": [
        "> Exercise: Try to implement a 3 nearest neighbour classifier and compare the accuracy of the 1 nearest neighbour classifier and the 3 nearest neighbour classifier on the test dataset. You can use the KNeighborsClassifier class from the scikit-learn library to implement the K-Nearest Neighbors model. You can set the number of neighbors using the n_neighbors parameter. You can also use the accuracy_score function from the scikit-learn library to calculate the accuracy of the model."
      ]
    },
    {
      "cell_type": "markdown",
      "metadata": {
        "id": "PnYvkAZLQY7h"
      },
      "source": [
        "## Multiple Splits\n",
        "\n",
        "One way to get more accurate estimates for the test accuracy is by using <b>cross-validation</b>. Here, we will try a simple version, where we do multiple train/val splits and take the average of validation accuracies as the test accuracy estimation. Here is a function for doing this. Note that this function will take a long time to execute. You can reduce the number of splits to make it faster."
      ]
    },
    {
      "cell_type": "code",
      "execution_count": null,
      "metadata": {
        "id": "E4nGCUQXBTzo"
      },
      "outputs": [],
      "source": [
        "def AverageAccuracy(alldata, alllabel, splitpercent, iterations, classifier=NN):\n",
        "    \"\"\"\n",
        "    This function takes in the data, labels, split percentage, number of iterations and classifier function\n",
        "    and returns the average accuracy of the classifier\n",
        "\n",
        "    alldata: numpy array of shape (n,d) where n is the number of samples and d is the number of features\n",
        "    alllabel: numpy array of shape (n,) where n is the number of samples\n",
        "    splitpercent: float which is the percentage of data to be used for training\n",
        "    iterations: int which is the number of iterations to run the classifier\n",
        "    classifier: function which is the classifier function to be used\n",
        "\n",
        "    returns: the average accuracy of the classifier\n",
        "    \"\"\"\n",
        "    accuracy = 0\n",
        "    for ii in range(iterations):\n",
        "        traindata, trainlabel, valdata, vallabel = split(\n",
        "            alldata, alllabel, splitpercent\n",
        "        )\n",
        "        valpred = classifier(traindata, trainlabel, valdata)\n",
        "        accuracy += Accuracy(vallabel, valpred)\n",
        "    return accuracy / iterations  # average of all accuracies"
      ]
    },
    {
      "cell_type": "markdown",
      "source": [
        "3(ANS)\n",
        "A common practice in machine learning is to reserve around **20%** of the data for the validation set. This percentage strikes a balance between having enough data for both training and validation while ensuring the validation set provides a reliable estimate of model performance. Here’s why 20% is often used:\n",
        "\n",
        "1. **Sufficient Size:** With 20% reserved for validation, you generally have enough data to get a meaningful estimate of the model’s performance, reducing variability and providing a stable measure of accuracy.\n",
        "   \n",
        "2. **Adequate Training Data:** This leaves 80% of the data for training, which is typically enough to train most models effectively without overfitting.\n",
        "\n",
        "### Alternative Approaches\n",
        "\n",
        "- **Cross-Validation:** If you’re concerned about the representativeness of a single validation set split, you can use k-fold cross-validation, where the data is split into k subsets. The model is trained k times, each time using a different subset as the validation set and the remaining data for training. This approach provides a more comprehensive evaluation of the model’s performance.\n",
        "\n",
        "- **Training Set Size:** For very large datasets, even smaller percentages can be sufficient for validation because the absolute number of samples remains large. Conversely, for smaller datasets, you might need to reserve a slightly larger percentage to ensure robust performance evaluation.\n",
        "\n",
        "In summary, 20% is a good starting point, but adjustments might be necessary depending on the dataset size and specific requirements of the problem."
      ],
      "metadata": {
        "id": "GNFBsQzna_5f"
      }
    },
    {
      "cell_type": "code",
      "source": [
        "import numpy as np\n",
        "from sklearn.datasets import load_iris\n",
        "from sklearn.model_selection import train_test_split\n",
        "from sklearn.ensemble import RandomForestClassifier\n",
        "from sklearn.metrics import accuracy_score\n",
        "\n",
        "# Load the dataset\n",
        "data = load_iris()\n",
        "X, y = data.data, data.target\n",
        "\n",
        "# Split data into training+validation and test sets\n",
        "X_train_val, X_test, y_train_val, y_test = train_test_split(X, y, test_size=0.3, random_state=42)\n",
        "\n",
        "# Further split the training+validation set into training and validation sets (20% validation)\n",
        "X_train, X_val, y_train, y_val = train_test_split(X_train_val, y_train_val, test_size=0.2, random_state=42)\n",
        "\n",
        "# Initialize and train the model\n",
        "model = RandomForestClassifier(n_estimators=100, random_state=42)\n",
        "model.fit(X_train, y_train)\n",
        "\n",
        "# Make predictions and evaluate accuracy on validation set\n",
        "y_val_pred = model.predict(X_val)\n",
        "val_accuracy = accuracy_score(y_val, y_val_pred)\n",
        "\n",
        "# Make predictions and evaluate accuracy on test set\n",
        "y_test_pred = model.predict(X_test)\n",
        "test_accuracy = accuracy_score(y_test, y_test_pred)\n",
        "\n",
        "print(f\"Validation set size: 20% of training+validation data\")\n",
        "print(f\"Validation accuracy: {val_accuracy:.4f}\")\n",
        "print(f\"Test accuracy: {test_accuracy:.4f}\")"
      ],
      "metadata": {
        "id": "H-ZN8mS5bMrN"
      },
      "execution_count": null,
      "outputs": []
    },
    {
      "cell_type": "code",
      "execution_count": null,
      "metadata": {
        "colab": {
          "base_uri": "https://localhost:8080/"
        },
        "id": "H3qtNar7Bbik",
        "outputId": "5a5a53ec-beea-4f7f-cefc-79f74cceb1bd"
      },
      "outputs": [
        {
          "output_type": "stream",
          "name": "stdout",
          "text": [
            "Average validation accuracy: 33.58463539517022 %\n",
            "Test accuracy: 34.91795366795367 %\n"
          ]
        }
      ],
      "source": [
        "avg_acc = AverageAccuracy(alltraindata, alltrainlabel, 75 / 100, 10, classifier=NN)\n",
        "print(\"Average validation accuracy:\", avg_acc*100, \"%\")\n",
        "testpred = NN(alltraindata, alltrainlabel, testdata)\n",
        "\n",
        "print(\"Test accuracy:\", Accuracy(testlabel, testpred)*100, \"%\")"
      ]
    },
    {
      "cell_type": "markdown",
      "metadata": {
        "id": "33GIn4x5VH-d"
      },
      "source": [
        "This is a very simple way of doing cross-validation. There are many well-known algorithms for cross-validation, like k-fold cross-validation, leave-one-out etc. This will be covered in detail in a later module. For more information about cross-validation, check <a href=https://en.wikipedia.org/wiki/Cross-validation_(statistics)>Cross-validatioin (Wikipedia)</a>\n",
        "\n",
        "### Questions\n",
        "1. Does averaging the validation accuracy across multiple splits give more consistent results?\n",
        "2. Does it give more accurate estimate of test accuracy?\n",
        "3. What is the effect of the number of iterations on the estimate? Do we get a better estimate with higher iterations?\n",
        "4. Consider the results you got for the previous questions. Can we deal with a very small train dataset or validation dataset by increasing the iterations?\n"
      ]
    },
    {
      "cell_type": "markdown",
      "source": [
        "1(ANS)\n",
        "\n",
        "Load Dataset: Uses the Iris dataset.Initialize Model: Sets up the RandomForest model.Cross-Validation: Uses cross_val_score to perform 5-Fold Cross-Validation, which splits the data into 5 folds, trains and validates the model 5 times, and returns accuracy scores for each fold.Output: Prints the accuracy for each fold, the mean accuracy, and the standard deviation, providing a comprehensive view of the model’s performance.Averaging results from cross-validation provides a more robust assessment of model performance, reducing the potential bias from any single train-validation split."
      ],
      "metadata": {
        "id": "KKgSWzuvbfwD"
      }
    },
    {
      "cell_type": "code",
      "source": [
        "from sklearn.datasets import load_iris\n",
        "from sklearn.model_selection import cross_val_score\n",
        "from sklearn.ensemble import RandomForestClassifier\n",
        "\n",
        "# Load the dataset\n",
        "data = load_iris()\n",
        "X, y = data.data, data.target\n",
        "\n",
        "# Initialize the model\n",
        "model = RandomForestClassifier(n_estimators=100, random_state=42)\n",
        "\n",
        "# Perform k-Fold Cross-Validation\n",
        "scores = cross_val_score(model, X, y, cv=5, scoring='accuracy')  # 5-Fold Cross-Validation\n",
        "\n",
        "print(f\"Cross-Validation accuracies: {scores}\")\n",
        "print(f\"Mean accuracy: {scores.mean():.4f}\")\n",
        "print(f\"Standard deviation: {scores.std():.4f}\")"
      ],
      "metadata": {
        "id": "pKXbgZnxbuth"
      },
      "execution_count": null,
      "outputs": []
    },
    {
      "cell_type": "markdown",
      "source": [
        "2(ANS)\n",
        "Cross-validation typically provides a more reliable estimate of model performance on unseen data compared to a single train-validation split, but it does not directly estimate test set accuracy. Here’s how it works:\n",
        "\n",
        "### Accuracy of Cross-Validation Estimates\n",
        "\n",
        "- **Improved Reliability:** By averaging performance metrics across multiple folds, cross-validation gives a more stable estimate of how well the model generalizes to new data. This is due to the model being trained and validated on different subsets of the data, which helps mitigate the risk of overfitting to a specific train-validation split.\n",
        "\n",
        "- **Model Selection:** Cross-validation is often used to compare different models or hyperparameters. It provides a more robust measure of performance, helping in choosing the best model configuration.\n",
        "\n",
        "### Test Set Accuracy\n",
        "\n",
        "- **Separate Validation:** Test set accuracy is evaluated on a completely separate dataset that was not used during any part of the model training or validation. This provides an unbiased estimate of the model's performance on truly unseen data.\n",
        "\n",
        "- **Cross-Validation vs. Test Set:** While cross-validation estimates the model's performance on unseen data within the context of the given dataset, the test set provides a final check on how the model performs on completely new data.\n",
        "\n",
        "### Combining Both Approaches\n",
        "\n",
        "1. **Use Cross-Validation for Model Tuning:** Apply cross-validation to tune model hyperparameters and select the best model configuration. This helps ensure that the model generalizes well and is less likely to overfit.\n",
        "\n",
        "2. **Test Set for Final Evaluation:** After selecting the best model using cross-validation, evaluate its performance on a separate test set to get an unbiased measure of its effectiveness on new, unseen data.\n",
        "\n",
        "### Summary\n",
        "\n",
        "- **Cross-Validation:** Provides a more reliable estimate of performance compared to a single validation split, but is still within the context of the original dataset.\n",
        "- **Test Set:** Gives an unbiased final evaluation of the model’s performance on completely unseen data.\n",
        "\n",
        "Cross-validation helps in assessing how well the model might perform on unseen data within the context of the available data, while the test set provides the final check for performance."
      ],
      "metadata": {
        "id": "n06LooOubzkG"
      }
    },
    {
      "cell_type": "code",
      "source": [
        "from sklearn.datasets import load_iris\n",
        "from sklearn.model_selection import train_test_split, cross_val_score\n",
        "from sklearn.ensemble import RandomForestClassifier\n",
        "import numpy as np\n",
        "\n",
        "# Load the dataset\n",
        "data = load_iris()\n",
        "X, y = data.data, data.target\n",
        "\n",
        "# Split the data into training+validation and test sets\n",
        "X_train_val, X_test, y_train_val, y_test = train_test_split(X, y, test_size=0.3, random_state=42)\n",
        "\n",
        "# Initialize the model\n",
        "model = RandomForestClassifier(n_estimators=100, random_state=42)\n",
        "\n",
        "# Perform k-Fold Cross-Validation on the training+validation set\n",
        "cv_scores = cross_val_score(model, X_train_val, y_train_val, cv=5, scoring='accuracy')  # 5-Fold Cross-Validation\n",
        "\n",
        "# Train the model on the entire training+validation set\n",
        "model.fit(X_train_val, y_train_val)\n",
        "\n",
        "# Evaluate the model on the test set\n",
        "test_accuracy = model.score(X_test, y_test)\n",
        "\n",
        "print(f\"Cross-Validation accuracies: {cv_scores}\")\n",
        "print(f\"Mean Cross-Validation accuracy: {cv_scores.mean():.4f}\")\n",
        "print(f\"Standard deviation of Cross-Validation accuracy: {cv_scores.std():.4f}\")\n",
        "print(f\"Test set accuracy: {test_accuracy:.4f}\")"
      ],
      "metadata": {
        "id": "OpcZqRiIcQl6"
      },
      "execution_count": null,
      "outputs": []
    },
    {
      "cell_type": "markdown",
      "source": [
        "3(ANS)\n",
        "Effects of Number of FoldsFewer Folds (e.g., 2-5):Higher Variance: With fewer folds, each fold contains a larger portion of the data, and the model’s performance can be highly variable depending on how the data is split.Less Reliable: Fewer folds may not capture the variability in the data as well, leading to less reliable estimates of model performance.More Folds (e.g., 10):Lower Variance: More folds mean each fold is smaller, which helps in obtaining a more stable estimate of performance by averaging results from more different subsets of the data.More Reliable: More folds generally provide a more accurate estimate of model performance, as each data point is used for both training and validation multiple times.Trade-OffsComputational Cost: Increasing the number of folds requires more computational resources since the model is trained and validated more times. For example, 10-fold cross-validation involves training the model 10 times, which can be computationally expensive for large datasets or complex models.Bias-Variance Trade-Off: A higher number of folds reduces variance (by averaging over more splits) but may introduce more computational overhead. Conversely, fewer folds may lead to higher variance but less computational cost.Practical ConsiderationsTypical Choices: Common choices for the number of folds are 5 or 10. These values generally balance the trade-offs between computational cost and the reliability of the performance estimate.Dataset Size: For smaller datasets, more folds can be beneficial because it allows each sample to be used for both training and validation more times. For larger datasets, fewer folds might be sufficient."
      ],
      "metadata": {
        "id": "NYDOk1otcYIc"
      }
    },
    {
      "cell_type": "code",
      "source": [
        "from sklearn.datasets import load_iris\n",
        "from sklearn.model_selection import train_test_split, cross_val_score\n",
        "from sklearn.ensemble import RandomForestClassifier\n",
        "import numpy as np\n",
        "\n",
        "# Load the dataset\n",
        "data = load_iris()\n",
        "X, y = data.data, data.target\n",
        "\n",
        "# Split the data into training+validation and test sets\n",
        "X_train_val, X_test, y_train_val, y_test = train_test_split(X, y, test_size=0.3, random_state=42)\n",
        "\n",
        "# Initialize the model\n",
        "model = RandomForestClassifier(n_estimators=100, random_state=42)\n",
        "\n",
        "# Different numbers of folds to test\n",
        "folds = [3, 5, 10]\n",
        "\n",
        "for num_folds in folds:\n",
        "    # Perform k-Fold Cross-Validation\n",
        "    cv_scores = cross_val_score(model, X_train_val, y_train_val, cv=num_folds, scoring='accuracy')\n",
        "\n",
        "    # Train the model on the entire training+validation set\n",
        "    model.fit(X_train_val, y_train_val)\n",
        "\n",
        "    # Evaluate the model on the test set\n",
        "    test_accuracy = model.score(X_test, y_test)\n",
        "\n",
        "    print(f\"Number of folds: {num_folds}\")\n",
        "    print(f\"Cross-Validation accuracies: {cv_scores}\")\n",
        "    print(f\"Mean Cross-Validation accuracy: {cv_scores.mean():.4f}\")\n",
        "    print(f\"Standard deviation of Cross-Validation accuracy: {cv_scores.std():.4f}\")\n",
        "    print(f\"Test set accuracy: {test_accuracy:.4f}\\n\")"
      ],
      "metadata": {
        "id": "9QozRJIjcnCy"
      },
      "execution_count": null,
      "outputs": []
    },
    {
      "cell_type": "markdown",
      "source": [
        "4(ANS)\n",
        "Effects of Number of FoldsFewer Folds (e.g., 2-5):Higher Variance: With fewer folds, each fold contains a larger portion of the data, and the model’s performance can be highly variable depending on how the data is split.Less Reliable: Fewer folds may not capture the variability in the data as well, leading to less reliable estimates of model performance.More Folds (e.g., 10):Lower Variance: More folds mean each fold is smaller, which helps in obtaining a more stable estimate of performance by averaging results from more different subsets of the data.More Reliable: More folds generally provide a more accurate estimate of model performance, as each data point is used for both training and validation multiple times.Trade-OffsComputational Cost: Increasing the number of folds requires more computational resources since the model is trained and validated more times. For example, 10-fold cross-validation involves training the model 10 times, which can be computationally expensive for large datasets or complex models.Bias-Variance Trade-Off: A higher number of folds reduces variance (by averaging over more splits) but may introduce more computational overhead. Conversely, fewer folds may lead to higher variance but less computational cost."
      ],
      "metadata": {
        "id": "3nncDmSpc2kN"
      }
    },
    {
      "cell_type": "code",
      "source": [
        "from sklearn.datasets import load_iris\n",
        "from sklearn.model_selection import train_test_split, cross_val_score\n",
        "from sklearn.ensemble import RandomForestClassifier\n",
        "import numpy as np\n",
        "\n",
        "# Load the dataset\n",
        "data = load_iris()\n",
        "X, y = data.data, data.target\n",
        "\n",
        "# Split the data into training+validation and test sets\n",
        "X_train_val, X_test, y_train_val, y_test = train_test_split(X, y, test_size=0.3, random_state=42)\n",
        "\n",
        "# Initialize the model\n",
        "model = RandomForestClassifier(n_estimators=100, random_state=42)\n",
        "\n",
        "# Perform k-Fold Cross-Validation on the training+validation set\n",
        "cv_scores = cross_val_score(model, X_train_val, y_train_val, cv=5, scoring='accuracy')  # 5-Fold Cross-Validation\n",
        "\n",
        "# Train the model on the entire training+validation set\n",
        "model.fit(X_train_val, y_train_val)\n",
        "\n",
        "# Evaluate the model on the test set\n",
        "test_accuracy = model.score(X_test, y_test)\n",
        "\n",
        "print(f\"Cross-Validation accuracies: {cv_scores}\")\n",
        "print(f\"Mean Cross-Validation accuracy: {cv_scores.mean():.4f}\")\n",
        "print(f\"Standard deviation of Cross-Validation accuracy: {cv_scores.std():.4f}\")\n",
        "print(f\"Test set accuracy: {test_accuracy:.4f}\")"
      ],
      "metadata": {
        "id": "3CKGspvMd-Tc"
      },
      "execution_count": null,
      "outputs": []
    },
    {
      "cell_type": "markdown",
      "metadata": {
        "id": "z-SBxy1qevgJ"
      },
      "source": [
        "> Exercise: How does the accuracy of the 3 nearest neighbour classifier change with the number of splits? How is it affected by the split size? Compare the results with the 1 nearest neighbour classifier."
      ]
    }
  ],
  "metadata": {
    "colab": {
      "provenance": [],
      "include_colab_link": true
    },
    "kernelspec": {
      "display_name": "Python 3",
      "name": "python3"
    },
    "language_info": {
      "codemirror_mode": {
        "name": "ipython",
        "version": 3
      },
      "file_extension": ".py",
      "mimetype": "text/x-python",
      "name": "python",
      "nbconvert_exporter": "python",
      "pygments_lexer": "ipython3",
      "version": "3.10.10"
    }
  },
  "nbformat": 4,
  "nbformat_minor": 0
}