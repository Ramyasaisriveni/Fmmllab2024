{
  "nbformat": 4,
  "nbformat_minor": 0,
  "metadata": {
    "colab": {
      "provenance": [],
      "include_colab_link": true
    },
    "kernelspec": {
      "name": "python3",
      "display_name": "Python 3"
    },
    "language_info": {
      "name": "python"
    }
  },
  "cells": [
    {
      "cell_type": "markdown",
      "metadata": {
        "id": "view-in-github",
        "colab_type": "text"
      },
      "source": [
        "<a href=\"https://colab.research.google.com/github/Ramyasaisriveni/Fmmllab2024/blob/main/M2_L4_Untitled0.ipynb\" target=\"_parent\"><img src=\"https://colab.research.google.com/assets/colab-badge.svg\" alt=\"Open In Colab\"/></a>"
      ]
    },
    {
      "cell_type": "code",
      "execution_count": null,
      "metadata": {
        "id": "K7ZsaTnjfYww"
      },
      "outputs": [],
      "source": []
    },
    {
      "cell_type": "markdown",
      "metadata": {
        "id": "a6_Y7HwqIKxB"
      },
      "source": [
        "**> DATA VISUALIZATION:-**\n",
        "\n",
        "* Data visualization is the process of presenting data in the form of graphs or chats.\n",
        "*  It helps to understand large and complex amounts of data very easily.\n",
        "* This data visualization is mainly used inhigh-level data analysis for Machine Learning and Exploratory Data Analysis(EDA).\n",
        "* Data visualization can be done with various tools like Tableau, power BI, python..!"
      ]
    },
    {
      "cell_type": "markdown",
      "metadata": {
        "id": "QizkgmRoJ0ja"
      },
      "source": [
        "* Matplotlib is also one of the library in Python.\n",
        "* It is a low-level library which can be used for data visualization.(Data visualization is the process of presenting data in the form of graphs or chats.)\n",
        "\n",
        "In matplotlib, pyplot is  a module that provide a MATLAB like graphs and visualization. This library is built on the top of NumPy arrays and consist of several plots like line chart, bar chart, histogram,etc.,"
      ]
    },
    {
      "cell_type": "code",
      "execution_count": null,
      "metadata": {
        "id": "5L-VIxtd08dO",
        "colab": {
          "base_uri": "https://localhost:8080/"
        },
        "outputId": "b2577633-ba18-4641-f25b-6d56bf9012f1"
      },
      "outputs": [
        {
          "output_type": "stream",
          "name": "stdout",
          "text": [
            "Requirement already satisfied: matplotlib in /usr/local/lib/python3.10/dist-packages (3.9.2)\n",
            "Requirement already satisfied: contourpy>=1.0.1 in /usr/local/lib/python3.10/dist-packages (from matplotlib) (1.3.1)\n",
            "Requirement already satisfied: cycler>=0.10 in /usr/local/lib/python3.10/dist-packages (from matplotlib) (0.12.1)\n",
            "Requirement already satisfied: fonttools>=4.22.0 in /usr/local/lib/python3.10/dist-packages (from matplotlib) (4.55.0)\n",
            "Requirement already satisfied: kiwisolver>=1.3.1 in /usr/local/lib/python3.10/dist-packages (from matplotlib) (1.4.7)\n",
            "Requirement already satisfied: numpy>=1.23 in /usr/local/lib/python3.10/dist-packages (from matplotlib) (1.26.4)\n",
            "Requirement already satisfied: packaging>=20.0 in /usr/local/lib/python3.10/dist-packages (from matplotlib) (24.2)\n",
            "Requirement already satisfied: pillow>=8 in /usr/local/lib/python3.10/dist-packages (from matplotlib) (11.0.0)\n",
            "Requirement already satisfied: pyparsing>=2.3.1 in /usr/local/lib/python3.10/dist-packages (from matplotlib) (3.2.0)\n",
            "Requirement already satisfied: python-dateutil>=2.7 in /usr/local/lib/python3.10/dist-packages (from matplotlib) (2.8.2)\n",
            "Requirement already satisfied: six>=1.5 in /usr/local/lib/python3.10/dist-packages (from python-dateutil>=2.7->matplotlib) (1.16.0)\n"
          ]
        }
      ],
      "source": [
        "!pip install matplotlib --upgrade"
      ]
    },
    {
      "cell_type": "code",
      "execution_count": null,
      "metadata": {
        "id": "bXSFhSsP-3ZZ",
        "outputId": "b2705ece-c5fe-404e-a4b6-1ff4541f8612",
        "colab": {
          "base_uri": "https://localhost:8080/",
          "height": 297
        }
      },
      "outputs": [
        {
          "output_type": "error",
          "ename": "NameError",
          "evalue": "name 'np' is not defined",
          "traceback": [
            "\u001b[0;31m---------------------------------------------------------------------------\u001b[0m",
            "\u001b[0;31mNameError\u001b[0m                                 Traceback (most recent call last)",
            "\u001b[0;32m<ipython-input-4-a7047f27afff>\u001b[0m in \u001b[0;36m<cell line: 1>\u001b[0;34m()\u001b[0m\n\u001b[0;32m----> 1\u001b[0;31m \u001b[0mXp\u001b[0m\u001b[0;34m=\u001b[0m\u001b[0mnp\u001b[0m\u001b[0;34m.\u001b[0m\u001b[0marray\u001b[0m\u001b[0;34m(\u001b[0m\u001b[0;34m[\u001b[0m\u001b[0;36m16\u001b[0m\u001b[0;34m,\u001b[0m\u001b[0;36m1\u001b[0m\u001b[0;34m,\u001b[0m\u001b[0;36m14\u001b[0m\u001b[0;34m,\u001b[0m\u001b[0;36m14\u001b[0m\u001b[0;34m,\u001b[0m\u001b[0;36m21\u001b[0m\u001b[0;34m]\u001b[0m\u001b[0;34m)\u001b[0m\u001b[0;34m\u001b[0m\u001b[0;34m\u001b[0m\u001b[0m\n\u001b[0m\u001b[1;32m      2\u001b[0m \u001b[0mYp\u001b[0m\u001b[0;34m=\u001b[0m\u001b[0mnp\u001b[0m\u001b[0;34m.\u001b[0m\u001b[0marray\u001b[0m\u001b[0;34m(\u001b[0m\u001b[0;34m[\u001b[0m\u001b[0;36m19\u001b[0m\u001b[0;34m,\u001b[0m\u001b[0;36m23\u001b[0m\u001b[0;34m,\u001b[0m\u001b[0;36m1\u001b[0m\u001b[0;34m,\u001b[0m\u001b[0;36m13\u001b[0m\u001b[0;34m,\u001b[0m\u001b[0;36m25\u001b[0m\u001b[0;34m]\u001b[0m\u001b[0;34m)\u001b[0m\u001b[0;34m\u001b[0m\u001b[0;34m\u001b[0m\u001b[0m\n",
            "\u001b[0;31mNameError\u001b[0m: name 'np' is not defined"
          ]
        }
      ],
      "source": [
        "Xp=np.array([16,1,14,14,21])\n",
        "Yp=np.array([19,23,1,13,25])"
      ]
    },
    {
      "cell_type": "code",
      "execution_count": null,
      "metadata": {
        "id": "iXxTbWyusgmy"
      },
      "outputs": [],
      "source": [
        "plt.plot(Xp, Yp,\"*\")    #dot-plot\n",
        "plt.show()"
      ]
    },
    {
      "cell_type": "code",
      "execution_count": null,
      "metadata": {
        "id": "RAl_5cJ4r9m8"
      },
      "outputs": [],
      "source": [
        "\n",
        "plt.plot(Xp, Yp)  #line-plot\n",
        "plt.show()"
      ]
    },
    {
      "cell_type": "code",
      "execution_count": null,
      "metadata": {
        "id": "WAzVo98xtJX6"
      },
      "outputs": [],
      "source": [
        "#Line-plot with a marker\n",
        "plt.plot(Xp, Yp,marker=\"^\")\n",
        "plt.show()"
      ]
    },
    {
      "cell_type": "code",
      "execution_count": null,
      "metadata": {
        "id": "rbcqJ9Df73Ak"
      },
      "outputs": [],
      "source": [
        "#Line-plot with marker and\n",
        "plt.plot(Xp,Yp,marker=\"o\")\n",
        "plt.title(\"Basic program on Matplotlib\",color='g')\n",
        "plt.ylabel(\"Y-AXIS\")\n",
        "plt.xlabel(\"X-AXIS\")\n",
        "plt.show()"
      ]
    },
    {
      "cell_type": "code",
      "execution_count": null,
      "metadata": {
        "id": "UE1u4Ij81JYv"
      },
      "outputs": [],
      "source": [
        "plt.title(\"One line plot with marker\",color='g')\n",
        "plt.plot(Yp, marker='*')\n",
        "plt.show()"
      ]
    },
    {
      "cell_type": "code",
      "execution_count": null,
      "metadata": {
        "id": "nfXsXfDt_BPk"
      },
      "outputs": [],
      "source": [
        "plt.title(\"Line plot using marker and colour shades\",color='g')\n",
        "plt.plot(Xp,Yp,marker='o', ms=10, mec='r', mfc='b')\n",
        "plt.show()"
      ]
    },
    {
      "cell_type": "code",
      "execution_count": null,
      "metadata": {
        "id": "-pEpyooLBkI8"
      },
      "outputs": [],
      "source": [
        "plt.title(\"Line plot using solid line style and width\",color='g')\n",
        "plt.plot(Xp,Yp,marker=\"*\",linestyle='solid',linewidth='3',color='red')\n",
        "plt.show()"
      ]
    },
    {
      "cell_type": "code",
      "execution_count": null,
      "metadata": {
        "id": "XG3zTSZ3CaXS"
      },
      "outputs": [],
      "source": [
        "plt.plot(Xp,Yp, linestyle='dotted',linewidth='10',color='red')\n",
        "plt.show()"
      ]
    },
    {
      "cell_type": "code",
      "execution_count": null,
      "metadata": {
        "id": "Z8JwdGwMCeE0"
      },
      "outputs": [],
      "source": [
        "plt.plot(Xp,Yp, linestyle='dashdot',linewidth='10',color='red')\n",
        "plt.show()"
      ]
    },
    {
      "cell_type": "code",
      "execution_count": null,
      "metadata": {
        "id": "Zv4ib5vwCi-o"
      },
      "outputs": [],
      "source": [
        "plt.plot(Xp,Yp, linestyle='dashed',linewidth='10',color='red')\n",
        "plt.show()"
      ]
    },
    {
      "cell_type": "code",
      "source": [
        "import matplotlib.pyplot as plt\n",
        "import numpy as np\n",
        "\n",
        "# Data\n",
        "x = np.linspace(0, 10, 100)\n",
        "y = np.sin(x)\n",
        "\n",
        "# Plot\n",
        "plt.plot(x, y)\n",
        "plt.title('Sine Wave')\n",
        "plt.xlabel('X axis')\n",
        "plt.ylabel('Y axis')\n",
        "plt.show()"
      ],
      "metadata": {
        "id": "FdTVOGsmpK-7"
      },
      "execution_count": null,
      "outputs": []
    },
    {
      "cell_type": "code",
      "source": [
        "import matplotlib.pyplot as plt\n",
        "import numpy as np\n",
        "\n",
        "# Data\n",
        "x = np.linspace(0, 10, 100)\n",
        "y = np.sin(x)\n",
        "\n",
        "# Plot\n",
        "plt.plot(x, y)\n",
        "plt.title('Line Plot of Sine Function')\n",
        "plt.xlabel('X axis')\n",
        "plt.ylabel('Y axis')\n",
        "plt.grid(True)\n",
        "plt.show()"
      ],
      "metadata": {
        "id": "5SvVgDhEpRUr"
      },
      "execution_count": null,
      "outputs": []
    },
    {
      "cell_type": "code",
      "source": [
        "# Data\n",
        "x = np.linspace(0, 10, 100)\n",
        "y1 = np.sin(x)\n",
        "y2 = np.cos(x)\n",
        "\n",
        "# Plot\n",
        "plt.fill_between(x, y1, y2, color='orange', alpha=0.5)\n",
        "plt.title('Area Plot between Sine and Cosine')\n",
        "plt.show()"
      ],
      "metadata": {
        "id": "fXf2JJN3pV6l"
      },
      "execution_count": null,
      "outputs": []
    },
    {
      "cell_type": "code",
      "source": [
        "\n",
        "# Generate data\n",
        "data = [np.random.normal(0, std, 100) for std in range(1, 4)]\n",
        "\n",
        "# Plot\n",
        "plt.boxplot(data, patch_artist=True)\n",
        "plt.title('Box Plot')\n",
        "plt.xlabel('Category')\n",
        "plt.ylabel('Values')\n",
        "plt.show()"
      ],
      "metadata": {
        "id": "AkarFjpEphKZ"
      },
      "execution_count": null,
      "outputs": []
    },
    {
      "cell_type": "code",
      "source": [
        "\n",
        "# Import necessary libraries\n",
        "import matplotlib.pyplot as plt\n",
        "\n",
        "# Create a figure for shapes\n",
        "plt.figure(figsize=(6, 6))\n",
        "\n",
        "# Plot a circle\n",
        "circle = plt.Circle((0.2, 0.8), 0.1, color='blue', fill=True)\n",
        "plt.gca().add_patch(circle)\n",
        "\n",
        "# Plot a square\n",
        "square = plt.Rectangle((0.6, 0.7), 0.2, 0.2, color='green')\n",
        "plt.gca().add_patch(square)\n",
        "\n",
        "# Plot a triangle (polygon)\n",
        "triangle = plt.Polygon([[0.5, 0.2], [0.7, 0.2], [0.6, 0.4]], color='red')\n",
        "plt.gca().add_patch(triangle)\n",
        "\n",
        "# Plot a rectangle\n",
        "rectangle = plt.Rectangle((0.1, 0.1), 0.3, 0.1, color='orange')\n",
        "plt.gca().add_patch(rectangle)\n",
        "\n",
        "# Adjust the plot limits and show grid\n",
        "plt.xlim(0, 1)\n",
        "plt.ylim(0, 1)\n",
        "plt.grid(True)\n",
        "\n",
        "# Set title and show the plot\n",
        "plt.title('Different Shapes: Circle, Square, Triangle, Rectangle')\n",
        "plt.show()"
      ],
      "metadata": {
        "id": "wbnubP1-retA"
      },
      "execution_count": null,
      "outputs": []
    },
    {
      "cell_type": "code",
      "source": [
        "\n",
        "# Import necessary library\n",
        "import matplotlib.pyplot as plt\n",
        "\n",
        "# Create a figure\n",
        "plt.figure(figsize=(5, 5))\n",
        "\n",
        "# Draw a circle\n",
        "circle = plt.Circle((0.5, 0.8), 0.1, color='blue')\n",
        "plt.gca().add_patch(circle)\n",
        "\n",
        "# Draw a square\n",
        "square = plt.Rectangle((0.3, 0.5), 0.4, 0.4, color='green')\n",
        "plt.gca().add_patch(square)\n",
        "\n",
        "# Draw a triangle (polygon)\n",
        "triangle = plt.Polygon([[0.2, 0.2], [0.8, 0.2], [0.5, 0.4]], color='red')\n",
        "plt.gca().add_patch(triangle)\n",
        "\n",
        "# Set plot limits\n",
        "plt.xlim(0, 1)\n",
        "plt.ylim(0, 1)\n",
        "\n",
        "# Add a title and show the plot\n",
        "plt.title('Simple Shapes: Circle, Square, Triangle')\n",
        "plt.grid(True)\n",
        "plt.show()"
      ],
      "metadata": {
        "id": "i00-_P59rpMb"
      },
      "execution_count": null,
      "outputs": []
    },
    {
      "cell_type": "markdown",
      "metadata": {
        "id": "PwptYv8f2vS4"
      },
      "source": [
        "### **`BAR-GRAPHS:-`**\n",
        "\n",
        "---\n",
        "\n",
        "Customization that is available for the Bar Chart –\n",
        "\n",
        "**color:** For the bar faces\n",
        "\n",
        "**edgecolor:** Color of edges of the bar\n",
        "\n",
        "**linewidth:** Width of the bar edges\n",
        "\n",
        "**width:** Width of the bar\n"
      ]
    },
    {
      "cell_type": "code",
      "execution_count": null,
      "metadata": {
        "id": "5KK8uXhF2u6Y"
      },
      "outputs": [],
      "source": [
        "import matplotlib.pyplot as plt\n",
        "import pandas as pd\n",
        "names=['KIET','KIEK','KIEW']\n",
        "scores=[92.87,72.9,70]\n",
        "plt.bar(names,scores,color='green', linewidth=5, edgecolor='red')\n",
        "plt.xlabel('\\n names', size=20)\n",
        "plt.ylabel('scores',size=20)\n",
        "plt.show()"
      ]
    },
    {
      "cell_type": "code",
      "source": [
        "# Data\n",
        "categories = ['A', 'B', 'C', 'D', 'E']\n",
        "values = [5, 7, 3, 8, 6]\n",
        "\n",
        "# Plot\n",
        "plt.bar(categories, values)\n",
        "plt.title('Bar Plot')\n",
        "plt.xlabel('Categories')\n",
        "plt.ylabel('Values')\n",
        "plt.show()"
      ],
      "metadata": {
        "id": "J8vpTNsGptGt"
      },
      "execution_count": null,
      "outputs": []
    },
    {
      "cell_type": "markdown",
      "source": [
        "**`VISUALIZE THE DATA IN SCATTER PLOT`**\n",
        "\n",
        "> To visualize the data in scatter plot we use scatter().\n",
        "\n"
      ],
      "metadata": {
        "id": "VkqmlT9OEjs4"
      }
    },
    {
      "cell_type": "code",
      "source": [
        "names=['pannu','prend','frienduuu']\n",
        "scores=[92.87,72.9,70]\n",
        "plt.scatter(names,scores,color='green', linewidth=5, edgecolor='red')\n",
        "plt.xlabel('\\n names', size=20)\n",
        "plt.ylabel('scores',size=20)\n",
        "plt.show()"
      ],
      "metadata": {
        "id": "w3GxNzPrBm4C"
      },
      "execution_count": null,
      "outputs": []
    },
    {
      "cell_type": "markdown",
      "source": [
        "**`Visualize the data in Piechart`**:-\n",
        "\n",
        "To visualize the data in pie chart we use pie()\n"
      ],
      "metadata": {
        "id": "wfYQFU6AFTwv"
      }
    },
    {
      "cell_type": "code",
      "source": [
        "names=['pannu','prend','frienduuu']\n",
        "scores=[92.87,72.9,70]\n",
        "plt.pie(scores,labels=names,autopct='%1.1f%%', startangle=140, colors=['blue', 'red', 'orange'])\n",
        "plt.xlabel('\\n names', size=20)\n",
        "plt.ylabel('scores',size=20)\n",
        "plt.show()"
      ],
      "metadata": {
        "id": "UKabJJnUFRbz"
      },
      "execution_count": null,
      "outputs": []
    },
    {
      "cell_type": "code",
      "source": [
        "# Data\n",
        "labels = ['Python', 'C++', 'Java', 'JavaScript']\n",
        "sizes = [215, 130, 245, 210]\n",
        "colors = ['gold', 'yellowgreen', 'lightcoral', 'lightskyblue']\n",
        "explode = (0.1, 0, 0, 0)  # \"explode\" the 1st slice\n",
        "\n",
        "# Plot\n",
        "plt.pie(sizes, explode=explode, labels=labels, colors=colors,\n",
        "        autopct='%1.1f%%', shadow=True, startangle=140)\n",
        "\n",
        "plt.title('Pie Chart of Programming Language Popularity')\n",
        "plt.axis('equal')  # Equal aspect ratio ensures that pie is drawn as a circle.\n",
        "plt.show()"
      ],
      "metadata": {
        "id": "e730l3JUpz2X"
      },
      "execution_count": null,
      "outputs": []
    },
    {
      "cell_type": "markdown",
      "source": [
        "**`Visualize the data in Histogram`**:-\n",
        "\n",
        "To visualize the data in pie chart we use pie()"
      ],
      "metadata": {
        "id": "3JUXaeRmGvSZ"
      }
    },
    {
      "cell_type": "code",
      "source": [
        "#names=['pannu','prend','frienduuu']\n",
        "scores=[92.87,72.9,70]\n",
        "plt.hist(scores,color='green',  edgecolor='red',bins=25)\n",
        "plt.xlabel('\\n names', size=20)\n",
        "plt.ylabel('scores',size=20)\n",
        "plt.show()"
      ],
      "metadata": {
        "id": "fMMNrWepGtOF"
      },
      "execution_count": null,
      "outputs": []
    },
    {
      "cell_type": "code",
      "source": [
        "\n",
        "import matplotlib.pyplot as plt\n",
        "\n",
        "# Data\n",
        "categories = ['Math', 'Science', 'English', 'History', 'Art']\n",
        "scores = [90, 80, 85, 70, 95]\n",
        "\n",
        "# Create a vertical bar chart\n",
        "plt.bar(categories, scores, color='skyblue')\n",
        "\n",
        "# Add labels and title\n",
        "plt.xlabel('Subjects')\n",
        "plt.ylabel('Scores')\n",
        "plt.title('Student Scores in Different Subjects')\n",
        "\n",
        "# Show the plot\n",
        "plt.show()"
      ],
      "metadata": {
        "id": "RvbXK_9Hvofr"
      },
      "execution_count": null,
      "outputs": []
    },
    {
      "cell_type": "code",
      "source": [
        "\n",
        "import matplotlib.pyplot as plt\n",
        "\n",
        "# Data\n",
        "categories = ['Math', 'Science', 'English', 'History', 'Art']\n",
        "scores = [90, 80, 85, 70, 95]\n",
        "\n",
        "# Create a horizontal bar chart\n",
        "plt.barh(categories, scores, color='lightgreen')\n",
        "\n",
        "# Add labels and title\n",
        "plt.xlabel('Scores')\n",
        "plt.ylabel('Subjects')\n",
        "plt.title('Student Scores in Different Subjects')\n",
        "\n",
        "# Show the plot\n",
        "plt.show()"
      ],
      "metadata": {
        "id": "rSo9FtkrvxrW"
      },
      "execution_count": null,
      "outputs": []
    },
    {
      "cell_type": "code",
      "source": [
        "\n",
        "import matplotlib.pyplot as plt\n",
        "import numpy as np\n",
        "\n",
        "# Data\n",
        "categories = ['Math', 'Science', 'English', 'History', 'Art']\n",
        "boys_scores = [90, 85, 80, 70, 95]\n",
        "girls_scores = [88, 90, 82, 75, 90]\n",
        "\n",
        "# X-axis labels position\n",
        "x = np.arange(len(categories))\n",
        "\n",
        "# Bar width\n",
        "width = 0.35\n",
        "\n",
        "# Create grouped bar chart\n",
        "plt.bar(x - width/2, boys_scores, width, label='Boys', color='blue')\n",
        "plt.bar(x + width/2, girls_scores, width, label='Girls', color='pink')\n",
        "\n",
        "# Add labels and title\n",
        "plt.xlabel('Subjects')\n",
        "plt.ylabel('Scores')\n",
        "plt.title('Scores Comparison Between Boys and Girls')\n",
        "\n",
        "# Add legend\n",
        "plt.legend()\n",
        "\n",
        "# Set X-axis labels\n",
        "plt.xticks(x, categories)\n",
        "\n",
        "# Show the plot\n",
        "plt.show()"
      ],
      "metadata": {
        "id": "MK_9Yxv6v1YD"
      },
      "execution_count": null,
      "outputs": []
    },
    {
      "cell_type": "code",
      "source": [
        "\n",
        "import matplotlib.pyplot as plt\n",
        "\n",
        "# Data\n",
        "categories = ['Math', 'Science', 'English', 'History', 'Art']\n",
        "boys_scores = [90, 85, 80, 70, 95]\n",
        "girls_scores = [88, 90, 82, 75, 90]\n",
        "\n",
        "# Create stacked bar chart\n",
        "plt.bar(categories, boys_scores, color='blue', label='Boys')\n",
        "plt.bar(categories, girls_scores, bottom=boys_scores, color='pink', label='Girls')\n",
        "\n",
        "# Add labels and title\n",
        "plt.xlabel('Subjects')\n",
        "plt.ylabel('Scores')\n",
        "plt.title('Total Scores Stacked Bar Chart')\n",
        "\n",
        "# Add legend\n",
        "plt.legend()\n",
        "\n",
        "# Show the plot\n",
        "plt.show()"
      ],
      "metadata": {
        "id": "y7nsSVsDv8JJ"
      },
      "execution_count": null,
      "outputs": []
    },
    {
      "cell_type": "code",
      "source": [
        "\n",
        "import matplotlib.pyplot as plt\n",
        "\n",
        "# Data\n",
        "categories = ['Math', 'Science', 'English', 'History', 'Art']\n",
        "scores = [90, 80, 85, 70, 95]\n",
        "\n",
        "# Custom colors and hatch patterns\n",
        "colors = ['red', 'blue', 'green', 'purple', 'orange']\n",
        "patterns = ['/', 'O', '*', '\\\\', '-']\n",
        "\n",
        "# Create a bar chart with colors and patterns\n",
        "for i in range(len(categories)):\n",
        "    plt.bar(categories[i], scores[i], color=colors[i], hatch=patterns[i])\n",
        "\n",
        "# Add labels and title\n",
        "plt.xlabel('Subjects')\n",
        "plt.ylabel('Scores')\n",
        "plt.title('Custom Colored and Patterned Bar Chart')\n",
        "\n",
        "# Show the plot\n",
        "plt.show()"
      ],
      "metadata": {
        "id": "kuVw57r7v_VW"
      },
      "execution_count": null,
      "outputs": []
    }
  ]
}