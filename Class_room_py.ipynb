{
  "nbformat": 4,
  "nbformat_minor": 0,
  "metadata": {
    "colab": {
      "provenance": [],
      "include_colab_link": true
    },
    "kernelspec": {
      "name": "python3",
      "display_name": "Python 3"
    },
    "language_info": {
      "name": "python"
    }
  },
  "cells": [
    {
      "cell_type": "markdown",
      "metadata": {
        "id": "view-in-github",
        "colab_type": "text"
      },
      "source": [
        "<a href=\"https://colab.research.google.com/github/Ramyasaisriveni/Fmmllab2024/blob/main/Class_room_py.ipynb\" target=\"_parent\"><img src=\"https://colab.research.google.com/assets/colab-badge.svg\" alt=\"Open In Colab\"/></a>"
      ]
    },
    {
      "cell_type": "code",
      "execution_count": null,
      "metadata": {
        "colab": {
          "base_uri": "https://localhost:8080/"
        },
        "id": "Uh3dNYVTlg82",
        "outputId": "7696dff0-425d-4e2d-b033-56ee2159b634"
      },
      "outputs": [
        {
          "output_type": "stream",
          "name": "stdout",
          "text": [
            "Case 1 Output: [1, 2, 9, 3, 4]\n",
            "Case 2 Output: [9, 10, 2, 4, 8]\n"
          ]
        }
      ],
      "source": [
        "\n",
        "def insert_element(arr, element, index):\n",
        "    arr.insert(index, element)\n",
        "    return arr\n",
        "\n",
        "# Case 1\n",
        "arr1 = [1, 2, 3, 4]\n",
        "element1 = 9\n",
        "index1 = 2\n",
        "result1 = insert_element(arr1, element1, index1)\n",
        "print(\"Case 1 Output:\", result1)\n",
        "\n",
        "# Case 2\n",
        "arr2 = [9, 2, 4, 8]\n",
        "element2 = 10\n",
        "index2 = 1\n",
        "result2 = insert_element(arr2, element2, index2)\n",
        "print(\"Case 2 Output:\", result2)"
      ]
    }
  ]
}